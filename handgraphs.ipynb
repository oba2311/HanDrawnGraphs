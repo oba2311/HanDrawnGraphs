{
 "cells": [
  {
   "cell_type": "code",
   "execution_count": null,
   "metadata": {},
   "outputs": [],
   "source": [
    "%pip install  python-graphviz\n",
    "%pip install pydot "
   ]
  },
  {
   "cell_type": "code",
   "execution_count": 1,
   "metadata": {},
   "outputs": [
    {
     "data": {
      "text/html": [
       "<html>\n",
       "<body>\n",
       "\n",
       "<div id=27080122ade640f1bc3b0a54fd9040f5></div>\n",
       "\n",
       "<script src=\"https://requirejs.org/docs/release/2.3.6/minified/require.js\"></script>\n",
       "<script>\n",
       "require.config({paths: {roughViz: \"https://unpkg.com/rough-viz@1.0.5/dist/roughviz.min\"}});\n",
       "require([\"roughViz\"], function(roughViz) {\n",
       "\n",
       "new roughViz.Bar(\n",
       "  {\"labels\": null, \"values\": null, \"data\": {\"labels\": [\"Before\", \"After\"], \"values\": [31, 53]}, \"title\": \"Onboarding Completion Rates\", \"margin\": {\"top\": 50, \"right\": 20, \"bottom\": 70, \"left\": 100}, \"width\": 700, \"height\": 500, \"interactive\": true, \"bowing\": 0.2, \"fillStyle\": \"cross-hatch\", \"fillWeight\": 0, \"strokeWidth\": 1, \"roughness\": 1, \"tooltipFontSize\": \"0.95rem\", \"titleFontSize\": \"2.8rem\", \"xLabel\": \"OB Version\", \"yLabel\": \"Completion %\", \"axisFontSize\": \"1.5rem\", \"labelFontSize\": \"2rem\", \"color\": \"pink\", \"axisRoughness\": 0.8, \"axisStrokeWidth\": 0.5, \"highlight\": \"red\", \"innerStrokeWidth\": 0, \"padding\": 0.1, \"simplification\": 0.2, \"stroke\": \"black\", \"element\": \"#27080122ade640f1bc3b0a54fd9040f5\"}\n",
       ");\n",
       "\tvar text = document.querySelectorAll(\".xAxis27080122ade640f1bc3b0a54fd9040f5 .tick text\");\n",
       "\tvar i;\n",
       "\tfor (i = 0; i < text.length; i++) {\n",
       "\t\ttext[i].setAttribute(\"transform\", \"rotate(0)\");\n",
       "\t\ttext[i].style.textAnchor=\"middle\";\n",
       "\t}\n",
       "\tdocument.getElementById(\"27080122ade640f1bc3b0a54fd9040f5\").style.height = \"px\";\n",
       "\tdocument.querySelector(\"#27080122ade640f1bc3b0a54fd9040f5 svg\").style.height = \"px\";\n",
       "});\n",
       "</script>\n",
       "\n",
       "</body>\n",
       "</html>"
      ],
      "text/plain": [
       "<IPython.core.display.HTML object>"
      ]
     },
     "metadata": {},
     "output_type": "display_data"
    }
   ],
   "source": [
    "from roughviz.charts import Bar\n",
    "\n",
    "data = {\n",
    "    \"labels\": [\"Before\", \"After\"],\n",
    "    \"values\": [31, 53]\n",
    "}\n",
    "\n",
    "bar = Bar(data=data, title=\"Onboarding Completion Rates\", title_fontsize=2.8 ,highlight=\"red\", color=\"pink\", axis_roughness=.8)\n",
    "bar.set_xlabel(\"OB Version\", fontsize=2)\n",
    "bar.set_ylabel(\"Completion %\", fontsize=2)\n",
    "\n",
    "bar.set_figsize(figsize=(700, 500))\n",
    "\n",
    "bar.show()\n"
   ]
  }
 ],
 "metadata": {
  "kernelspec": {
   "display_name": "Python 3.8.2 64-bit",
   "language": "python",
   "name": "python3"
  },
  "language_info": {
   "codemirror_mode": {
    "name": "ipython",
    "version": 3
   },
   "file_extension": ".py",
   "mimetype": "text/x-python",
   "name": "python",
   "nbconvert_exporter": "python",
   "pygments_lexer": "ipython3",
   "version": "3.8.9"
  },
  "orig_nbformat": 4,
  "vscode": {
   "interpreter": {
    "hash": "31f2aee4e71d21fbe5cf8b01ff0e069b9275f58929596ceb00d14d90e3e16cd6"
   }
  }
 },
 "nbformat": 4,
 "nbformat_minor": 2
}
